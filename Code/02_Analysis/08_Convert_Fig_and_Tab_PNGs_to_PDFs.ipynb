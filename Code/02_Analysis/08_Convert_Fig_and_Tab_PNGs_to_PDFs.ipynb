{
 "cells": [
  {
   "cell_type": "code",
   "execution_count": 1,
   "metadata": {},
   "outputs": [],
   "source": [
    "import img2pdf\n",
    "from PIL import Image\n",
    "import os"
   ]
  },
  {
   "cell_type": "code",
   "execution_count": 13,
   "metadata": {},
   "outputs": [],
   "source": [
    "# Get python script filepath\n",
    "wd = os.getcwd()\n",
    "\n",
    "# Set input filepath for PNG figures \n",
    "figs_png_fp = os.path.normpath(os.path.join(wd, '..', '..', 'Figures')) \n",
    "# # Set output filepath for converted PDF figures\n",
    "figs_pdf_fp = os.path.normpath(os.path.join(wd, '..', '..', 'Figures', 'z_PDF_Versions'))"
   ]
  },
  {
   "cell_type": "code",
   "execution_count": 15,
   "metadata": {},
   "outputs": [],
   "source": [
    "# Set filepaths for individual PNG image files\n",
    "fig01_png_fp = os.path.normpath(os.path.join(figs_png_fp, 'AIC', 'VOD_AGB_DIST.png'))\n",
    "fig02_png_fp = os.path.normpath(os.path.join(figs_png_fp, 'AIC', 'AIC_Results_Final.png'))\n",
    "fig03_png_fp = os.path.normpath(os.path.join(figs_png_fp, 'Analysis', 'AGB_VM_CalEval.png'))\n",
    "fig04_png_fp = os.path.normpath(os.path.join(figs_png_fp, 'Analysis', 'ESA_AGB_LC_Maps_TS.png'))\n",
    "fig05_png_fp = os.path.normpath(os.path.join(figs_png_fp, 'Analysis', 'AGB_LULC_Boxplot_2010.png'))\n",
    "fig06_png_fp = os.path.normpath(os.path.join(figs_png_fp, 'Analysis', 'Percent_AGB_Change_2003vs2012_w_violin_plot.png'))\n",
    "tab01_png_fp = os.path.normpath(os.path.join(figs_png_fp, 'Analysis', 'Percent_AGB_Change_2003vs2012_Median_per_LC.png'))\n",
    "tab02_png_fp = os.path.normpath(os.path.join(figs_png_fp, 'Analysis', 'MK_SenSlope_2003to2012_Median_per_LC.png'))\n",
    "fig07_png_fp = os.path.normpath(os.path.join(figs_png_fp, 'Analysis', 'AGB_Anoms_TS_BP.png'))\n",
    "tabS1_png_fp = os.path.normpath(os.path.join(figs_png_fp, 'AIC', 'AIC_Report_CbandVOD_logAGB.png'))\n",
    "tabS2_png_fp = os.path.normpath(os.path.join(figs_png_fp, 'AIC', 'CbandVOD_logAGB_ModInputVars_VIF_table.png'))\n",
    "tabS3_png_fp = os.path.normpath(os.path.join(figs_png_fp, 'Analysis', 'Burn_Areas_2006to2010.png'))\n",
    "figS2_png_fp = os.path.normpath(os.path.join(figs_png_fp, 'Analysis', 'VOD_Daily_Pct_Spatial_Coverage_2017.png'))\n",
    "tabS4_png_fp = os.path.normpath(os.path.join(figs_png_fp, 'Analysis', 'AGB_Annual_Stats_Table.png'))\n",
    "figS3_png_fp = os.path.normpath(os.path.join(figs_png_fp, 'Analysis', 'AGB_LULC_Annual_2003to2012.png'))\n",
    "figS4_png_fp = os.path.normpath(os.path.join(figs_png_fp, 'Analysis', 'MannKendall_SS_2003vs2012_w_violin_plot.png'))\n",
    "\n",
    "# Combine as list\n",
    "png_filepaths = [fig01_png_fp, fig02_png_fp, fig03_png_fp, fig04_png_fp, fig05_png_fp, fig06_png_fp, tab01_png_fp, tab02_png_fp, \n",
    "                 fig07_png_fp, tabS1_png_fp, tabS2_png_fp, tabS3_png_fp, figS2_png_fp, tabS4_png_fp, figS3_png_fp, figS4_png_fp]"
   ]
  },
  {
   "cell_type": "code",
   "execution_count": null,
   "metadata": {},
   "outputs": [],
   "source": [
    "# Set filepaths for individual output converted PDF files\n",
    "fig01_pdf_fp = os.path.normpath(os.path.join(figs_pdf_fp, 'Devine_etal_2025_ERE-IOP_f01.pdf'))\n",
    "fig02_pdf_fp = os.path.normpath(os.path.join(figs_pdf_fp, 'Devine_etal_2025_ERE-IOP_f02.pdf'))\n",
    "fig03_pdf_fp = os.path.normpath(os.path.join(figs_pdf_fp, 'Devine_etal_2025_ERE-IOP_f03.pdf'))\n",
    "fig04_pdf_fp = os.path.normpath(os.path.join(figs_pdf_fp, 'Devine_etal_2025_ERE-IOP_f04.pdf'))\n",
    "fig05_pdf_fp = os.path.normpath(os.path.join(figs_pdf_fp, 'Devine_etal_2025_ERE-IOP_f05.pdf'))\n",
    "fig06_pdf_fp = os.path.normpath(os.path.join(figs_pdf_fp, 'Devine_etal_2025_ERE-IOP_f06.pdf'))\n",
    "tab01_pdf_fp = os.path.normpath(os.path.join(figs_pdf_fp, 'Devine_etal_2025_ERE-IOP_t01.pdf'))\n",
    "tab02_pdf_fp = os.path.normpath(os.path.join(figs_pdf_fp, 'Devine_etal_2025_ERE-IOP_t02.pdf'))\n",
    "fig07_pdf_fp = os.path.normpath(os.path.join(figs_pdf_fp, 'Devine_etal_2025_ERE-IOP_f07.pdf'))\n",
    "tabS1_pdf_fp = os.path.normpath(os.path.join(figs_pdf_fp, 'Devine_etal_2025_ERE-IOP_st01.pdf'))\n",
    "tabS2_pdf_fp = os.path.normpath(os.path.join(figs_pdf_fp, 'Devine_etal_2025_ERE-IOP_st02.pdf'))\n",
    "tabS3_pdf_fp = os.path.normpath(os.path.join(figs_pdf_fp, 'Devine_etal_2025_ERE-IOP_st03.pdf'))\n",
    "figS2_pdf_fp = os.path.normpath(os.path.join(figs_pdf_fp, 'Devine_etal_2025_ERE-IOP_sf02.pdf'))\n",
    "tabS4_pdf_fp = os.path.normpath(os.path.join(figs_pdf_fp, 'Devine_etal_2025_ERE-IOP_st04.pdf'))\n",
    "figS3_pdf_fp = os.path.normpath(os.path.join(figs_pdf_fp, 'Devine_etal_2025_ERE-IOP_sf03.pdf'))\n",
    "figS4_pdf_fp = os.path.normpath(os.path.join(figs_pdf_fp, 'Devine_etal_2025_ERE-IOP_sf04.pdf'))\n",
    "\n",
    "pdf_filepaths = [fig01_pdf_fp, fig02_pdf_fp, fig03_pdf_fp, fig04_pdf_fp, fig05_pdf_fp, fig06_pdf_fp, tab01_pdf_fp, tab02_pdf_fp, \n",
    "                 fig07_pdf_fp, tabS1_pdf_fp, tabS2_pdf_fp, tabS3_pdf_fp, figS2_pdf_fp, tabS4_pdf_fp, figS3_pdf_fp, figS4_pdf_fp]"
   ]
  },
  {
   "cell_type": "code",
   "execution_count": null,
   "metadata": {},
   "outputs": [],
   "source": [
    "# Loop through PNG file paths, convert PNG images to PDF, and export to PDF filepath\n",
    "for png_fp, pdf_fp in zip(png_filepaths, pdf_filepaths):\n",
    "    print('Converting ' + png_fp)\n",
    "    png = Image.open(png_fp)\n",
    "    pdf = img2pdf.convert(png.filename)\n",
    "    pdf_file = open(pdf_fp, 'wb')\n",
    "    pdf_file.write(pdf)\n",
    "    pdf_file.close()\n",
    "    png.close()    "
   ]
  }
 ],
 "metadata": {
  "kernelspec": {
   "display_name": "Python 3 (ipykernel)",
   "language": "python",
   "name": "python3"
  },
  "language_info": {
   "codemirror_mode": {
    "name": "ipython",
    "version": 3
   },
   "file_extension": ".py",
   "mimetype": "text/x-python",
   "name": "python",
   "nbconvert_exporter": "python",
   "pygments_lexer": "ipython3",
   "version": "3.13.5"
  }
 },
 "nbformat": 4,
 "nbformat_minor": 4
}
